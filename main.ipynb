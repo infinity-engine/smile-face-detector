{
 "cells": [
  {
   "cell_type": "code",
   "execution_count": 25,
   "metadata": {},
   "outputs": [],
   "source": [
    "import matplotlib.pyplot as plt\n",
    "import matplotlib.image as img\n",
    "import numpy as np\n",
    "from imutils import paths\n",
    "import cv2\n",
    "import tensorflow as tf\n",
    "import tensorflow.keras.layers as tfl\n",
    "IMG_X = 64\n",
    "IMG_Y = 64"
   ]
  },
  {
   "cell_type": "code",
   "execution_count": 26,
   "metadata": {},
   "outputs": [],
   "source": [
    "\n",
    "def form_training_data(paths,cls):\n",
    "    X = []\n",
    "    y = []\n",
    "    for imgpath,cl in zip(paths,cls):\n",
    "        try:\n",
    "            img_array = cv2.imread(imgpath,cv2.IMREAD_GRAYSCALE)\n",
    "            img_array = cv2.resize(img_array,(IMG_X,IMG_Y))\n",
    "            X.append(img_array)\n",
    "            y.append(cl)\n",
    "        except:\n",
    "            pass\n",
    "    \n",
    "    return np.array(X).reshape(-1,IMG_X,IMG_Y,1),np.array(y)\n",
    "\n"
   ]
  },
  {
   "cell_type": "code",
   "execution_count": 20,
   "metadata": {},
   "outputs": [],
   "source": [
    "imagePaths_test_0 = list(paths.list_images(\"./datasets/test_folder/0/\"))\n",
    "imagePaths_test_1 = list(paths.list_images(\"./datasets/test_folder/1/\"))\n",
    "imagePaths_test = imagePaths_test_0 + imagePaths_test_1\n",
    "test_class = [0]*len(imagePaths_test_0)+[1]*len(imagePaths_test_1)\n",
    "imagePaths_train_0 = list(paths.list_images(\"./datasets/train_folder/0/\"))\n",
    "imagePaths_train_1 = list(paths.list_images(\"./datasets/train_folder/1/\"))\n",
    "imagePaths_train = imagePaths_train_0 + imagePaths_train_1\n",
    "train_class = [0]*len(imagePaths_train_0)+[1]*len(imagePaths_train_1)\n",
    "\n",
    "X_train,y_train = form_training_data(imagePaths_train,train_class)\n",
    "X_test,y_test = form_training_data(imagePaths_test,test_class)"
   ]
  },
  {
   "cell_type": "code",
   "execution_count": 22,
   "metadata": {},
   "outputs": [],
   "source": [
    "#shuffle the training data\n",
    "shuffler = np.random.permutation(len(X_train))\n",
    "X_train = X_train[shuffler]\n",
    "y_train = y_train[shuffler]"
   ]
  },
  {
   "cell_type": "code",
   "execution_count": 38,
   "metadata": {},
   "outputs": [
    {
     "name": "stdout",
     "output_type": "stream",
     "text": [
      "Model: \"sequential_3\"\n",
      "_________________________________________________________________\n",
      " Layer (type)                Output Shape              Param #   \n",
      "=================================================================\n",
      " zero_padding2d_2 (ZeroPaddi  (None, 70, 70, 1)        0         \n",
      " ng2D)                                                           \n",
      "                                                                 \n",
      " conv2d_2 (Conv2D)           (None, 64, 64, 64)        3200      \n",
      "                                                                 \n",
      " batch_normalization_2 (Batc  (None, 64, 64, 64)       256       \n",
      " hNormalization)                                                 \n",
      "                                                                 \n",
      " re_lu_2 (ReLU)              (None, 64, 64, 64)        0         \n",
      "                                                                 \n",
      " max_pooling2d_2 (MaxPooling  (None, 32, 32, 64)       0         \n",
      " 2D)                                                             \n",
      "                                                                 \n",
      " flatten_2 (Flatten)         (None, 65536)             0         \n",
      "                                                                 \n",
      " dense_2 (Dense)             (None, 1)                 65537     \n",
      "                                                                 \n",
      "=================================================================\n",
      "Total params: 68,993\n",
      "Trainable params: 68,865\n",
      "Non-trainable params: 128\n",
      "_________________________________________________________________\n"
     ]
    }
   ],
   "source": [
    "model = tf.keras.Sequential([\n",
    "    tfl.ZeroPadding2D(padding=3,input_shape = X_train.shape[1:],),\n",
    "    tfl.Conv2D(64,7,strides=(1,1)),\n",
    "    tfl.BatchNormalization(axis = 3),\n",
    "    tfl.ReLU(),\n",
    "    tfl.MaxPool2D(),\n",
    "    tfl.Flatten(),\n",
    "    tfl.Dense(1,activation='sigmoid')\n",
    "])\n",
    "model.summary()"
   ]
  },
  {
   "cell_type": "code",
   "execution_count": 39,
   "metadata": {},
   "outputs": [],
   "source": [
    "\n",
    "model.compile(optimizer=\"adam\",loss=\"categorical_crossentropy\",metrics = ['accuracy'])"
   ]
  },
  {
   "cell_type": "code",
   "execution_count": 41,
   "metadata": {},
   "outputs": [
    {
     "name": "stdout",
     "output_type": "stream",
     "text": [
      "Epoch 1/10\n",
      " 7/79 [=>............................] - ETA: 14s - loss: 0.0000e+00 - accuracy: 0.4375"
     ]
    }
   ],
   "source": [
    "model.fit(X_train,y_train,epochs=10,batch_size=32,validation_split=0.1)"
   ]
  },
  {
   "cell_type": "code",
   "execution_count": 37,
   "metadata": {},
   "outputs": [
    {
     "name": "stdout",
     "output_type": "stream",
     "text": [
      "88/88 [==============================] - 5s 56ms/step - loss: 0.0000e+00 - accuracy: 0.4421\n"
     ]
    },
    {
     "data": {
      "text/plain": [
       "[0.0, 0.4421428442001343]"
      ]
     },
     "execution_count": 37,
     "metadata": {},
     "output_type": "execute_result"
    }
   ],
   "source": [
    "model.evaluate(X_train,y_train)"
   ]
  }
 ],
 "metadata": {
  "kernelspec": {
   "display_name": "Python 3.9.12 ('ibms')",
   "language": "python",
   "name": "python3"
  },
  "language_info": {
   "codemirror_mode": {
    "name": "ipython",
    "version": 3
   },
   "file_extension": ".py",
   "mimetype": "text/x-python",
   "name": "python",
   "nbconvert_exporter": "python",
   "pygments_lexer": "ipython3",
   "version": "3.9.12"
  },
  "orig_nbformat": 4,
  "vscode": {
   "interpreter": {
    "hash": "1daeb3aac5cd2c4a35a5a82e2605f94aa6dfd32667a80d836bc0bb8d384e416b"
   }
  }
 },
 "nbformat": 4,
 "nbformat_minor": 2
}
