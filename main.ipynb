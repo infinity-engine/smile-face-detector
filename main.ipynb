{
 "cells": [
  {
   "cell_type": "code",
   "execution_count": 54,
   "metadata": {},
   "outputs": [],
   "source": [
    "import matplotlib.pyplot as plt\n",
    "import matplotlib.image as img\n",
    "import numpy as np\n",
    "from imutils import paths\n",
    "import cv2\n",
    "import tensorflow as tf\n",
    "import tensorflow.keras.layers as tfl\n",
    "IMG_X = 64\n",
    "IMG_Y = 64\n",
    "import joblib\n",
    "from tensorflow.keras.models import load_model"
   ]
  },
  {
   "cell_type": "code",
   "execution_count": 26,
   "metadata": {},
   "outputs": [],
   "source": [
    "\n",
    "def form_training_data(paths,cls):\n",
    "    X = []\n",
    "    y = []\n",
    "    for imgpath,cl in zip(paths,cls):\n",
    "        try:\n",
    "            img_array = cv2.imread(imgpath,cv2.IMREAD_GRAYSCALE)\n",
    "            img_array = cv2.resize(img_array,(IMG_X,IMG_Y))\n",
    "            X.append(img_array)\n",
    "            y.append(cl)\n",
    "        except:\n",
    "            pass\n",
    "    \n",
    "    return np.array(X).reshape(-1,IMG_X,IMG_Y,1),np.array(y)\n",
    "\n"
   ]
  },
  {
   "cell_type": "code",
   "execution_count": 20,
   "metadata": {},
   "outputs": [],
   "source": [
    "imagePaths_test_0 = list(paths.list_images(\"./datasets/test_folder/0/\"))\n",
    "imagePaths_test_1 = list(paths.list_images(\"./datasets/test_folder/1/\"))\n",
    "imagePaths_test = imagePaths_test_0 + imagePaths_test_1\n",
    "test_class = [0]*len(imagePaths_test_0)+[1]*len(imagePaths_test_1)\n",
    "imagePaths_train_0 = list(paths.list_images(\"./datasets/train_folder/0/\"))\n",
    "imagePaths_train_1 = list(paths.list_images(\"./datasets/train_folder/1/\"))\n",
    "imagePaths_train = imagePaths_train_0 + imagePaths_train_1\n",
    "train_class = [0]*len(imagePaths_train_0)+[1]*len(imagePaths_train_1)\n",
    "\n",
    "X_train,y_train = form_training_data(imagePaths_train,train_class)\n",
    "X_test,y_test = form_training_data(imagePaths_test,test_class)"
   ]
  },
  {
   "cell_type": "code",
   "execution_count": 22,
   "metadata": {},
   "outputs": [],
   "source": [
    "#shuffle the training data\n",
    "shuffler = np.random.permutation(len(X_train))\n",
    "X_train = X_train[shuffler]\n",
    "y_train = y_train[shuffler]"
   ]
  },
  {
   "cell_type": "code",
   "execution_count": 44,
   "metadata": {},
   "outputs": [
    {
     "name": "stdout",
     "output_type": "stream",
     "text": [
      "Model: \"sequential_4\"\n",
      "_________________________________________________________________\n",
      " Layer (type)                Output Shape              Param #   \n",
      "=================================================================\n",
      " zero_padding2d_3 (ZeroPaddi  (None, 70, 70, 1)        0         \n",
      " ng2D)                                                           \n",
      "                                                                 \n",
      " conv2d_3 (Conv2D)           (None, 64, 64, 64)        3200      \n",
      "                                                                 \n",
      " batch_normalization_3 (Batc  (None, 64, 64, 64)       256       \n",
      " hNormalization)                                                 \n",
      "                                                                 \n",
      " re_lu_3 (ReLU)              (None, 64, 64, 64)        0         \n",
      "                                                                 \n",
      " max_pooling2d_3 (MaxPooling  (None, 32, 32, 64)       0         \n",
      " 2D)                                                             \n",
      "                                                                 \n",
      " flatten_3 (Flatten)         (None, 65536)             0         \n",
      "                                                                 \n",
      " dense_3 (Dense)             (None, 1)                 65537     \n",
      "                                                                 \n",
      "=================================================================\n",
      "Total params: 68,993\n",
      "Trainable params: 68,865\n",
      "Non-trainable params: 128\n",
      "_________________________________________________________________\n"
     ]
    }
   ],
   "source": [
    "model = tf.keras.Sequential([\n",
    "    tfl.ZeroPadding2D(padding=3,input_shape = X_train.shape[1:],),\n",
    "    tfl.Conv2D(64,7,strides=(1,1)),\n",
    "    tfl.BatchNormalization(axis = -1),\n",
    "    tfl.ReLU(),\n",
    "    tfl.MaxPool2D(),\n",
    "    tfl.Flatten(),\n",
    "    tfl.Dense(1,activation='sigmoid')\n",
    "])\n",
    "model.summary()"
   ]
  },
  {
   "cell_type": "code",
   "execution_count": 45,
   "metadata": {},
   "outputs": [],
   "source": [
    "\n",
    "model.compile(optimizer=\"adam\",loss=\"binary_crossentropy\",metrics = ['accuracy'])"
   ]
  },
  {
   "cell_type": "code",
   "execution_count": 60,
   "metadata": {},
   "outputs": [
    {
     "name": "stdout",
     "output_type": "stream",
     "text": [
      "Epoch 1/100\n",
      "79/79 [==============================] - 15s 188ms/step - loss: 0.1682 - accuracy: 0.9345 - val_loss: 0.8207 - val_accuracy: 0.7857\n",
      "Epoch 2/100\n",
      "79/79 [==============================] - 16s 207ms/step - loss: 0.1884 - accuracy: 0.9250 - val_loss: 0.8139 - val_accuracy: 0.7857\n",
      "Epoch 3/100\n",
      "79/79 [==============================] - 15s 184ms/step - loss: 0.1641 - accuracy: 0.9353 - val_loss: 0.5058 - val_accuracy: 0.8393\n",
      "Epoch 4/100\n",
      "79/79 [==============================] - 14s 177ms/step - loss: 0.1250 - accuracy: 0.9488 - val_loss: 0.6320 - val_accuracy: 0.8214\n",
      "Epoch 5/100\n",
      "79/79 [==============================] - 14s 177ms/step - loss: 0.0824 - accuracy: 0.9730 - val_loss: 0.6191 - val_accuracy: 0.8250\n",
      "Epoch 6/100\n",
      "79/79 [==============================] - 14s 177ms/step - loss: 0.0806 - accuracy: 0.9710 - val_loss: 1.1420 - val_accuracy: 0.7464\n",
      "Epoch 7/100\n",
      "79/79 [==============================] - 14s 176ms/step - loss: 0.0659 - accuracy: 0.9770 - val_loss: 0.6217 - val_accuracy: 0.8250\n",
      "Epoch 8/100\n",
      "79/79 [==============================] - 14s 175ms/step - loss: 0.0819 - accuracy: 0.9671 - val_loss: 0.7119 - val_accuracy: 0.8179\n",
      "Epoch 9/100\n",
      "79/79 [==============================] - 14s 179ms/step - loss: 0.0752 - accuracy: 0.9690 - val_loss: 1.6268 - val_accuracy: 0.7179\n",
      "Epoch 10/100\n",
      "79/79 [==============================] - 14s 183ms/step - loss: 0.0571 - accuracy: 0.9841 - val_loss: 0.7694 - val_accuracy: 0.8036\n",
      "Epoch 11/100\n",
      "79/79 [==============================] - 15s 186ms/step - loss: 0.0999 - accuracy: 0.9611 - val_loss: 0.6836 - val_accuracy: 0.8321\n",
      "Epoch 12/100\n",
      "79/79 [==============================] - 14s 182ms/step - loss: 0.1152 - accuracy: 0.9556 - val_loss: 1.0012 - val_accuracy: 0.7857\n",
      "Epoch 13/100\n",
      "79/79 [==============================] - 14s 182ms/step - loss: 0.2045 - accuracy: 0.9226 - val_loss: 1.0926 - val_accuracy: 0.7750\n",
      "Epoch 14/100\n",
      "79/79 [==============================] - 14s 181ms/step - loss: 0.1363 - accuracy: 0.9492 - val_loss: 0.8936 - val_accuracy: 0.8000\n",
      "Epoch 15/100\n",
      "79/79 [==============================] - 14s 183ms/step - loss: 0.0579 - accuracy: 0.9802 - val_loss: 0.6963 - val_accuracy: 0.8357\n",
      "Epoch 16/100\n",
      "79/79 [==============================] - 15s 190ms/step - loss: 0.0473 - accuracy: 0.9829 - val_loss: 0.8027 - val_accuracy: 0.8179\n",
      "Epoch 17/100\n",
      "79/79 [==============================] - 15s 190ms/step - loss: 0.0525 - accuracy: 0.9798 - val_loss: 0.6668 - val_accuracy: 0.8107\n",
      "Epoch 18/100\n",
      "79/79 [==============================] - 14s 183ms/step - loss: 0.0453 - accuracy: 0.9853 - val_loss: 0.9450 - val_accuracy: 0.8036\n",
      "Epoch 19/100\n",
      "79/79 [==============================] - 14s 179ms/step - loss: 0.0524 - accuracy: 0.9821 - val_loss: 0.6815 - val_accuracy: 0.8286\n",
      "Epoch 20/100\n",
      "79/79 [==============================] - 14s 179ms/step - loss: 0.0387 - accuracy: 0.9897 - val_loss: 0.8573 - val_accuracy: 0.8286\n",
      "Epoch 21/100\n",
      "79/79 [==============================] - 14s 178ms/step - loss: 0.0320 - accuracy: 0.9885 - val_loss: 0.8816 - val_accuracy: 0.8286\n",
      "Epoch 22/100\n",
      "79/79 [==============================] - 14s 180ms/step - loss: 0.0229 - accuracy: 0.9929 - val_loss: 0.6842 - val_accuracy: 0.8250\n",
      "Epoch 23/100\n",
      "79/79 [==============================] - 14s 179ms/step - loss: 0.0189 - accuracy: 0.9964 - val_loss: 0.8991 - val_accuracy: 0.8357\n",
      "Epoch 24/100\n",
      "79/79 [==============================] - 14s 180ms/step - loss: 0.0231 - accuracy: 0.9933 - val_loss: 0.8908 - val_accuracy: 0.8179\n",
      "Epoch 25/100\n",
      "79/79 [==============================] - 14s 180ms/step - loss: 0.0264 - accuracy: 0.9909 - val_loss: 0.7469 - val_accuracy: 0.8214\n",
      "Epoch 26/100\n",
      "79/79 [==============================] - 14s 180ms/step - loss: 0.0432 - accuracy: 0.9865 - val_loss: 1.2006 - val_accuracy: 0.7893\n",
      "Epoch 27/100\n",
      "79/79 [==============================] - 14s 180ms/step - loss: 0.0567 - accuracy: 0.9825 - val_loss: 1.0671 - val_accuracy: 0.7929\n",
      "Epoch 28/100\n",
      "79/79 [==============================] - 14s 181ms/step - loss: 0.0902 - accuracy: 0.9671 - val_loss: 1.0971 - val_accuracy: 0.7857\n",
      "Epoch 29/100\n",
      "79/79 [==============================] - 14s 184ms/step - loss: 0.1052 - accuracy: 0.9635 - val_loss: 1.0544 - val_accuracy: 0.8036\n",
      "Epoch 30/100\n",
      "79/79 [==============================] - 14s 180ms/step - loss: 0.1280 - accuracy: 0.9528 - val_loss: 0.7835 - val_accuracy: 0.8500\n",
      "Epoch 31/100\n",
      "79/79 [==============================] - 14s 183ms/step - loss: 0.0638 - accuracy: 0.9742 - val_loss: 0.9015 - val_accuracy: 0.8286\n",
      "Epoch 32/100\n",
      "79/79 [==============================] - 14s 183ms/step - loss: 0.0764 - accuracy: 0.9714 - val_loss: 0.9876 - val_accuracy: 0.8107\n",
      "Epoch 33/100\n",
      "79/79 [==============================] - 14s 181ms/step - loss: 0.0364 - accuracy: 0.9881 - val_loss: 1.1332 - val_accuracy: 0.8143\n",
      "Epoch 34/100\n",
      "79/79 [==============================] - 14s 183ms/step - loss: 0.0457 - accuracy: 0.9861 - val_loss: 0.9314 - val_accuracy: 0.8214\n",
      "Epoch 35/100\n",
      "79/79 [==============================] - 14s 181ms/step - loss: 0.0275 - accuracy: 0.9909 - val_loss: 0.9138 - val_accuracy: 0.8250\n",
      "Epoch 36/100\n",
      "79/79 [==============================] - 14s 182ms/step - loss: 0.0526 - accuracy: 0.9829 - val_loss: 0.8783 - val_accuracy: 0.8143\n",
      "Epoch 37/100\n",
      "79/79 [==============================] - 14s 181ms/step - loss: 0.0318 - accuracy: 0.9885 - val_loss: 1.0300 - val_accuracy: 0.7964\n",
      "Epoch 38/100\n",
      "79/79 [==============================] - 14s 182ms/step - loss: 0.0275 - accuracy: 0.9901 - val_loss: 1.0843 - val_accuracy: 0.8250\n",
      "Epoch 39/100\n",
      "79/79 [==============================] - 14s 181ms/step - loss: 0.0199 - accuracy: 0.9933 - val_loss: 0.9671 - val_accuracy: 0.8214\n",
      "Epoch 40/100\n",
      "79/79 [==============================] - 14s 182ms/step - loss: 0.0126 - accuracy: 0.9964 - val_loss: 0.9340 - val_accuracy: 0.8250\n",
      "Epoch 41/100\n",
      "79/79 [==============================] - 14s 181ms/step - loss: 0.0082 - accuracy: 0.9988 - val_loss: 0.9155 - val_accuracy: 0.8357\n",
      "Epoch 42/100\n",
      "79/79 [==============================] - 14s 180ms/step - loss: 0.0119 - accuracy: 0.9972 - val_loss: 1.2579 - val_accuracy: 0.8036\n",
      "Epoch 43/100\n",
      "79/79 [==============================] - 14s 180ms/step - loss: 0.0118 - accuracy: 0.9972 - val_loss: 0.9409 - val_accuracy: 0.8214\n",
      "Epoch 44/100\n",
      "79/79 [==============================] - 14s 181ms/step - loss: 0.0151 - accuracy: 0.9948 - val_loss: 1.1007 - val_accuracy: 0.8107\n",
      "Epoch 45/100\n",
      "79/79 [==============================] - 14s 181ms/step - loss: 0.0118 - accuracy: 0.9968 - val_loss: 1.3178 - val_accuracy: 0.8179\n",
      "Epoch 46/100\n",
      "79/79 [==============================] - 14s 179ms/step - loss: 0.2034 - accuracy: 0.9440 - val_loss: 9.9930 - val_accuracy: 0.6143\n",
      "Epoch 47/100\n",
      "79/79 [==============================] - 14s 181ms/step - loss: 0.1733 - accuracy: 0.9433 - val_loss: 1.0125 - val_accuracy: 0.8429\n",
      "Epoch 48/100\n",
      "79/79 [==============================] - 14s 181ms/step - loss: 0.0586 - accuracy: 0.9794 - val_loss: 1.1708 - val_accuracy: 0.8107\n",
      "Epoch 49/100\n",
      "79/79 [==============================] - 14s 182ms/step - loss: 0.0556 - accuracy: 0.9782 - val_loss: 1.5655 - val_accuracy: 0.7893\n",
      "Epoch 50/100\n",
      "79/79 [==============================] - 14s 181ms/step - loss: 0.0252 - accuracy: 0.9944 - val_loss: 0.8923 - val_accuracy: 0.8321\n",
      "Epoch 51/100\n",
      "79/79 [==============================] - 14s 180ms/step - loss: 0.0187 - accuracy: 0.9929 - val_loss: 1.1513 - val_accuracy: 0.8143\n",
      "Epoch 52/100\n",
      "79/79 [==============================] - 14s 181ms/step - loss: 0.0137 - accuracy: 0.9976 - val_loss: 1.0565 - val_accuracy: 0.8357\n",
      "Epoch 53/100\n",
      "79/79 [==============================] - 15s 184ms/step - loss: 0.0070 - accuracy: 0.9992 - val_loss: 1.0326 - val_accuracy: 0.8214\n",
      "Epoch 54/100\n",
      "79/79 [==============================] - 14s 183ms/step - loss: 0.0068 - accuracy: 0.9992 - val_loss: 1.0501 - val_accuracy: 0.8321\n",
      "Epoch 55/100\n",
      "79/79 [==============================] - 15s 184ms/step - loss: 0.0057 - accuracy: 0.9996 - val_loss: 1.0395 - val_accuracy: 0.8214\n",
      "Epoch 56/100\n",
      "79/79 [==============================] - 14s 183ms/step - loss: 0.0050 - accuracy: 0.9992 - val_loss: 1.0715 - val_accuracy: 0.8286\n",
      "Epoch 57/100\n",
      "79/79 [==============================] - 14s 183ms/step - loss: 0.0043 - accuracy: 1.0000 - val_loss: 1.0054 - val_accuracy: 0.8214\n",
      "Epoch 58/100\n",
      "79/79 [==============================] - 15s 184ms/step - loss: 0.0036 - accuracy: 1.0000 - val_loss: 1.0277 - val_accuracy: 0.8107\n",
      "Epoch 59/100\n",
      "79/79 [==============================] - 14s 183ms/step - loss: 0.0035 - accuracy: 1.0000 - val_loss: 1.0243 - val_accuracy: 0.8286\n",
      "Epoch 60/100\n",
      "79/79 [==============================] - 15s 185ms/step - loss: 0.0097 - accuracy: 0.9976 - val_loss: 1.0630 - val_accuracy: 0.8393\n",
      "Epoch 61/100\n",
      "79/79 [==============================] - 15s 186ms/step - loss: 0.0106 - accuracy: 0.9972 - val_loss: 1.0229 - val_accuracy: 0.8429\n",
      "Epoch 62/100\n",
      "79/79 [==============================] - 15s 185ms/step - loss: 0.0046 - accuracy: 0.9996 - val_loss: 1.0152 - val_accuracy: 0.8321\n",
      "Epoch 63/100\n",
      "79/79 [==============================] - 15s 187ms/step - loss: 0.0034 - accuracy: 1.0000 - val_loss: 1.0331 - val_accuracy: 0.8500\n",
      "Epoch 64/100\n",
      "79/79 [==============================] - 15s 186ms/step - loss: 0.0033 - accuracy: 1.0000 - val_loss: 1.0623 - val_accuracy: 0.8321\n",
      "Epoch 65/100\n",
      "79/79 [==============================] - 15s 186ms/step - loss: 0.0045 - accuracy: 0.9996 - val_loss: 1.1644 - val_accuracy: 0.8250\n",
      "Epoch 66/100\n",
      "79/79 [==============================] - 15s 186ms/step - loss: 0.1347 - accuracy: 0.9687 - val_loss: 11.8357 - val_accuracy: 0.6000\n",
      "Epoch 67/100\n",
      "79/79 [==============================] - 15s 193ms/step - loss: 0.4217 - accuracy: 0.9028 - val_loss: 3.5781 - val_accuracy: 0.6821\n",
      "Epoch 68/100\n",
      "79/79 [==============================] - 14s 180ms/step - loss: 0.1331 - accuracy: 0.9591 - val_loss: 1.8940 - val_accuracy: 0.7500\n",
      "Epoch 69/100\n",
      "79/79 [==============================] - 14s 178ms/step - loss: 0.1068 - accuracy: 0.9679 - val_loss: 1.2767 - val_accuracy: 0.8036\n",
      "Epoch 70/100\n",
      "79/79 [==============================] - 14s 181ms/step - loss: 0.0573 - accuracy: 0.9798 - val_loss: 1.1746 - val_accuracy: 0.8143\n",
      "Epoch 71/100\n",
      "79/79 [==============================] - 14s 180ms/step - loss: 0.0189 - accuracy: 0.9944 - val_loss: 0.9134 - val_accuracy: 0.8214\n",
      "Epoch 72/100\n",
      "79/79 [==============================] - 14s 179ms/step - loss: 0.0120 - accuracy: 0.9972 - val_loss: 0.9564 - val_accuracy: 0.8464\n",
      "Epoch 73/100\n",
      "79/79 [==============================] - 14s 181ms/step - loss: 0.0081 - accuracy: 0.9980 - val_loss: 1.0268 - val_accuracy: 0.8429\n",
      "Epoch 74/100\n",
      "79/79 [==============================] - 14s 181ms/step - loss: 0.0197 - accuracy: 0.9964 - val_loss: 1.0278 - val_accuracy: 0.8321\n",
      "Epoch 75/100\n",
      "79/79 [==============================] - 14s 183ms/step - loss: 0.0125 - accuracy: 0.9960 - val_loss: 1.2270 - val_accuracy: 0.8286\n",
      "Epoch 76/100\n",
      "79/79 [==============================] - 14s 182ms/step - loss: 0.0134 - accuracy: 0.9960 - val_loss: 1.0682 - val_accuracy: 0.8393\n",
      "Epoch 77/100\n",
      "79/79 [==============================] - 14s 183ms/step - loss: 0.0087 - accuracy: 0.9980 - val_loss: 1.0799 - val_accuracy: 0.8429\n",
      "Epoch 78/100\n",
      "79/79 [==============================] - 14s 179ms/step - loss: 0.0041 - accuracy: 1.0000 - val_loss: 1.0514 - val_accuracy: 0.8321\n",
      "Epoch 79/100\n",
      "79/79 [==============================] - 14s 182ms/step - loss: 0.0037 - accuracy: 0.9996 - val_loss: 1.0500 - val_accuracy: 0.8357\n",
      "Epoch 80/100\n",
      "79/79 [==============================] - 14s 181ms/step - loss: 0.0038 - accuracy: 0.9996 - val_loss: 1.1388 - val_accuracy: 0.8250\n",
      "Epoch 81/100\n",
      "79/79 [==============================] - 14s 183ms/step - loss: 0.0045 - accuracy: 0.9992 - val_loss: 1.1238 - val_accuracy: 0.8286\n",
      "Epoch 82/100\n",
      "79/79 [==============================] - 14s 182ms/step - loss: 0.0030 - accuracy: 1.0000 - val_loss: 1.0869 - val_accuracy: 0.8357\n",
      "Epoch 83/100\n",
      "79/79 [==============================] - 14s 181ms/step - loss: 0.0026 - accuracy: 1.0000 - val_loss: 1.0891 - val_accuracy: 0.8286\n",
      "Epoch 84/100\n",
      "79/79 [==============================] - 14s 179ms/step - loss: 0.0025 - accuracy: 1.0000 - val_loss: 1.1165 - val_accuracy: 0.8393\n",
      "Epoch 85/100\n",
      "79/79 [==============================] - 14s 181ms/step - loss: 0.0026 - accuracy: 1.0000 - val_loss: 1.1272 - val_accuracy: 0.8357\n",
      "Epoch 86/100\n",
      "79/79 [==============================] - 14s 180ms/step - loss: 0.0021 - accuracy: 1.0000 - val_loss: 1.1323 - val_accuracy: 0.8357\n",
      "Epoch 87/100\n",
      "79/79 [==============================] - 14s 180ms/step - loss: 0.0021 - accuracy: 1.0000 - val_loss: 1.1236 - val_accuracy: 0.8321\n",
      "Epoch 88/100\n",
      "79/79 [==============================] - 14s 179ms/step - loss: 0.0020 - accuracy: 0.9996 - val_loss: 1.1355 - val_accuracy: 0.8357\n",
      "Epoch 89/100\n",
      "79/79 [==============================] - 14s 182ms/step - loss: 0.0018 - accuracy: 0.9996 - val_loss: 1.1257 - val_accuracy: 0.8250\n",
      "Epoch 90/100\n",
      "79/79 [==============================] - 14s 182ms/step - loss: 0.0021 - accuracy: 1.0000 - val_loss: 1.1363 - val_accuracy: 0.8286\n",
      "Epoch 91/100\n",
      "79/79 [==============================] - 14s 182ms/step - loss: 0.0020 - accuracy: 1.0000 - val_loss: 1.1394 - val_accuracy: 0.8357\n",
      "Epoch 92/100\n",
      "79/79 [==============================] - 14s 182ms/step - loss: 0.0019 - accuracy: 1.0000 - val_loss: 1.1846 - val_accuracy: 0.8429\n",
      "Epoch 93/100\n",
      "79/79 [==============================] - 14s 180ms/step - loss: 0.0155 - accuracy: 0.9937 - val_loss: 1.4303 - val_accuracy: 0.8143\n",
      "Epoch 94/100\n",
      "79/79 [==============================] - 14s 182ms/step - loss: 0.3830 - accuracy: 0.9175 - val_loss: 4.7323 - val_accuracy: 0.6964\n",
      "Epoch 95/100\n",
      "79/79 [==============================] - 14s 180ms/step - loss: 0.1891 - accuracy: 0.9480 - val_loss: 1.0872 - val_accuracy: 0.8107\n",
      "Epoch 96/100\n",
      "79/79 [==============================] - 14s 180ms/step - loss: 0.0536 - accuracy: 0.9825 - val_loss: 1.3531 - val_accuracy: 0.8321\n",
      "Epoch 97/100\n",
      "79/79 [==============================] - 14s 181ms/step - loss: 0.0338 - accuracy: 0.9885 - val_loss: 1.0850 - val_accuracy: 0.8250\n",
      "Epoch 98/100\n",
      "79/79 [==============================] - 14s 180ms/step - loss: 0.0161 - accuracy: 0.9956 - val_loss: 1.4097 - val_accuracy: 0.8071\n",
      "Epoch 99/100\n",
      "79/79 [==============================] - 14s 180ms/step - loss: 0.0170 - accuracy: 0.9952 - val_loss: 1.2584 - val_accuracy: 0.8179\n",
      "Epoch 100/100\n",
      "79/79 [==============================] - 14s 181ms/step - loss: 0.0073 - accuracy: 0.9992 - val_loss: 1.1269 - val_accuracy: 0.8321\n"
     ]
    },
    {
     "data": {
      "text/plain": [
       "<keras.callbacks.History at 0x199ad9b4880>"
      ]
     },
     "execution_count": 60,
     "metadata": {},
     "output_type": "execute_result"
    }
   ],
   "source": [
    "model.fit(X_train,y_train,epochs=100,batch_size=32,validation_split=0.1)"
   ]
  },
  {
   "cell_type": "code",
   "execution_count": 61,
   "metadata": {},
   "outputs": [
    {
     "name": "stdout",
     "output_type": "stream",
     "text": [
      "INFO:tensorflow:Assets written to: ./Model\\assets\n"
     ]
    }
   ],
   "source": [
    "model.save(\"./Model\")"
   ]
  },
  {
   "cell_type": "code",
   "execution_count": 62,
   "metadata": {},
   "outputs": [],
   "source": [
    "model_ = load_model(\"./Model\")"
   ]
  },
  {
   "cell_type": "code",
   "execution_count": 63,
   "metadata": {},
   "outputs": [
    {
     "name": "stdout",
     "output_type": "stream",
     "text": [
      "38/38 [==============================] - 2s 50ms/step - loss: 0.8994 - accuracy: 0.8450\n"
     ]
    },
    {
     "data": {
      "text/plain": [
       "[0.8994207978248596, 0.8450000286102295]"
      ]
     },
     "execution_count": 63,
     "metadata": {},
     "output_type": "execute_result"
    }
   ],
   "source": [
    "model_.evaluate(X_test,y_test)"
   ]
  },
  {
   "cell_type": "code",
   "execution_count": null,
   "metadata": {},
   "outputs": [],
   "source": []
  }
 ],
 "metadata": {
  "kernelspec": {
   "display_name": "Python 3.9.12 ('ibms')",
   "language": "python",
   "name": "python3"
  },
  "language_info": {
   "codemirror_mode": {
    "name": "ipython",
    "version": 3
   },
   "file_extension": ".py",
   "mimetype": "text/x-python",
   "name": "python",
   "nbconvert_exporter": "python",
   "pygments_lexer": "ipython3",
   "version": "3.9.12"
  },
  "orig_nbformat": 4,
  "vscode": {
   "interpreter": {
    "hash": "1daeb3aac5cd2c4a35a5a82e2605f94aa6dfd32667a80d836bc0bb8d384e416b"
   }
  }
 },
 "nbformat": 4,
 "nbformat_minor": 2
}
